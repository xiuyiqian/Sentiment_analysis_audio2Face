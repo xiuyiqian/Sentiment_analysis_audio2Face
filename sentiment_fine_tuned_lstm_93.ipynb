{
 "cells": [
  {
   "cell_type": "markdown",
   "metadata": {},
   "source": [
    "# Importing libraries"
   ]
  },
  {
   "cell_type": "code",
   "execution_count": null,
   "metadata": {
    "_cell_guid": "b1076dfc-b9ad-4769-8c92-a6c4dae69d19",
    "_uuid": "8f2839f25d086af736a60e9eeb907d3b93b6e0e5",
    "execution": {
     "iopub.execute_input": "2023-01-05T11:16:04.027704Z",
     "iopub.status.busy": "2023-01-05T11:16:04.027289Z",
     "iopub.status.idle": "2023-01-05T11:16:04.251182Z",
     "shell.execute_reply": "2023-01-05T11:16:04.250283Z",
     "shell.execute_reply.started": "2023-01-05T11:16:04.027667Z"
    }
   },
   "outputs": [],
   "source": [
    "import re\n",
    "import nltk\n",
    "import string\n",
    "import numpy as np\n",
    "import seaborn as sns\n",
    "import matplotlib.pyplot as plt\n",
    "from nltk.corpus import stopwords\n",
    "from nltk.stem import SnowballStemmer, WordNetLemmatizer\n",
    "from sklearn.feature_extraction.text import TfidfVectorizer\n",
    "\n",
    "from sklearn.preprocessing import LabelEncoder\n",
    "from sklearn.model_selection import train_test_split\n",
    "\n",
    "from tensorflow.keras.utils import to_categorical\n",
    "from tensorflow.keras.preprocessing.text import Tokenizer\n",
    "from tensorflow.keras.preprocessing.sequence import pad_sequences\n",
    "\n",
    "from tensorflow.keras.optimizers import Adam\n",
    "from tensorflow.keras.models import Sequential\n",
    "from tensorflow.keras.callbacks import EarlyStopping\n",
    "from tensorflow.keras.layers import Dense, LSTM, Embedding, Bidirectional\n",
    "\n",
    "stop_words = set(stopwords.words(\"english\"))\n",
    "lemmatizer= WordNetLemmatizer()\n",
    "\n",
    "# Modelling\n",
    "from sklearn.model_selection import train_test_split,KFold, GridSearchCV\n",
    "from sklearn.ensemble import RandomForestClassifier\n",
    "from sklearn.linear_model import LogisticRegression\n",
    "from sklearn.tree import DecisionTreeClassifier\n",
    "from sklearn.ensemble import RandomForestClassifier\n",
    "from sklearn.metrics import accuracy_score,confusion_matrix, classification_report\n",
    "from sklearn.pipeline import Pipeline\n",
    "from sklearn.metrics import f1_score\n",
    "from sklearn.svm import SVC\n",
    "\n",
    "#Lime\n",
    "from lime import lime_text\n",
    "from lime.lime_text import LimeTextExplainer\n",
    "from lime.lime_text import IndexedString,IndexedCharacters\n",
    "from lime.lime_base import LimeBase\n",
    "from lime.lime_text import explanation\n",
    "sns.set(font_scale=1.3)\n",
    "nltk.download('omw-1.4')"
   ]
  },
  {
   "cell_type": "code",
   "execution_count": 2,
   "metadata": {
    "execution": {
     "iopub.execute_input": "2023-01-05T10:09:53.483999Z",
     "iopub.status.busy": "2023-01-05T10:09:53.483044Z",
     "iopub.status.idle": "2023-01-05T10:09:53.532993Z",
     "shell.execute_reply": "2023-01-05T10:09:53.531888Z",
     "shell.execute_reply.started": "2023-01-05T10:09:53.483969Z"
    }
   },
   "outputs": [
    {
     "data": {
      "text/html": [
       "<div>\n",
       "<style scoped>\n",
       "    .dataframe tbody tr th:only-of-type {\n",
       "        vertical-align: middle;\n",
       "    }\n",
       "\n",
       "    .dataframe tbody tr th {\n",
       "        vertical-align: top;\n",
       "    }\n",
       "\n",
       "    .dataframe thead th {\n",
       "        text-align: right;\n",
       "    }\n",
       "</style>\n",
       "<table border=\"1\" class=\"dataframe\">\n",
       "  <thead>\n",
       "    <tr style=\"text-align: right;\">\n",
       "      <th></th>\n",
       "      <th>text</th>\n",
       "      <th>label</th>\n",
       "      <th>clean_list_words</th>\n",
       "    </tr>\n",
       "  </thead>\n",
       "  <tbody>\n",
       "    <tr>\n",
       "      <th>0</th>\n",
       "      <td>Just got back from seeing @GaryDelaney in Burs...</td>\n",
       "      <td>joy</td>\n",
       "      <td>[got, back, see, garydelaney, burslem, amaz, f...</td>\n",
       "    </tr>\n",
       "    <tr>\n",
       "      <th>1</th>\n",
       "      <td>Oh dear an evening of absolute hilarity I don'...</td>\n",
       "      <td>joy</td>\n",
       "      <td>[oh, dear, even, absolut, hilar, think, laugh,...</td>\n",
       "    </tr>\n",
       "    <tr>\n",
       "      <th>2</th>\n",
       "      <td>Been waiting all week for this game ❤️❤️❤️ #ch...</td>\n",
       "      <td>joy</td>\n",
       "      <td>[wait, week, game, cheer, friday]</td>\n",
       "    </tr>\n",
       "    <tr>\n",
       "      <th>3</th>\n",
       "      <td>@gardiner_love : Thank you so much, Gloria! Yo...</td>\n",
       "      <td>joy</td>\n",
       "      <td>[gardin, love, thank, much, gloria, sweet, tho...</td>\n",
       "    </tr>\n",
       "    <tr>\n",
       "      <th>4</th>\n",
       "      <td>I feel so blessed to work with the family that...</td>\n",
       "      <td>joy</td>\n",
       "      <td>[feel, bless, work, famili, nanni, noth, love,...</td>\n",
       "    </tr>\n",
       "  </tbody>\n",
       "</table>\n",
       "</div>"
      ],
      "text/plain": [
       "                                                text label  \\\n",
       "0  Just got back from seeing @GaryDelaney in Burs...   joy   \n",
       "1  Oh dear an evening of absolute hilarity I don'...   joy   \n",
       "2  Been waiting all week for this game ❤️❤️❤️ #ch...   joy   \n",
       "3  @gardiner_love : Thank you so much, Gloria! Yo...   joy   \n",
       "4  I feel so blessed to work with the family that...   joy   \n",
       "\n",
       "                                    clean_list_words  \n",
       "0  [got, back, see, garydelaney, burslem, amaz, f...  \n",
       "1  [oh, dear, even, absolut, hilar, think, laugh,...  \n",
       "2                  [wait, week, game, cheer, friday]  \n",
       "3  [gardin, love, thank, much, gloria, sweet, tho...  \n",
       "4  [feel, bless, work, famili, nanni, noth, love,...  "
      ]
     },
     "execution_count": 2,
     "metadata": {},
     "output_type": "execute_result"
    }
   ],
   "source": [
    "# Load Tweet dataset\n",
    "import pandas as pd\n",
    "df = pd.read_pickle(r'./all_sentiment_data_3_24.pkl')\n",
    "df.head()"
   ]
  },
  {
   "cell_type": "markdown",
   "metadata": {},
   "source": [
    "# Assessing"
   ]
  },
  {
   "cell_type": "markdown",
   "metadata": {
    "execution": {
     "iopub.execute_input": "2022-12-02T07:56:50.581818Z",
     "iopub.status.busy": "2022-12-02T07:56:50.581537Z",
     "iopub.status.idle": "2022-12-02T07:56:50.594699Z",
     "shell.execute_reply": "2022-12-02T07:56:50.593728Z",
     "shell.execute_reply.started": "2022-12-02T07:56:50.58177Z"
    }
   },
   "source": [
    "## Train dataset"
   ]
  },
  {
   "cell_type": "code",
   "execution_count": 4,
   "metadata": {
    "execution": {
     "iopub.execute_input": "2023-01-05T10:09:53.612551Z",
     "iopub.status.busy": "2023-01-05T10:09:53.611764Z",
     "iopub.status.idle": "2023-01-05T10:09:53.623784Z",
     "shell.execute_reply": "2023-01-05T10:09:53.622561Z",
     "shell.execute_reply.started": "2023-01-05T10:09:53.612509Z"
    }
   },
   "outputs": [
    {
     "data": {
      "text/plain": [
       "fear         2252\n",
       "happiness    1814\n",
       "anger        1701\n",
       "joy          1616\n",
       "sadness      1533\n",
       "love         1514\n",
       "Name: label, dtype: int64"
      ]
     },
     "execution_count": 4,
     "metadata": {},
     "output_type": "execute_result"
    }
   ],
   "source": [
    "#check if the data is balanced or not\n",
    "df.label.value_counts()"
   ]
  },
  {
   "cell_type": "code",
   "execution_count": 5,
   "metadata": {
    "execution": {
     "iopub.execute_input": "2023-01-05T10:09:53.62915Z",
     "iopub.status.busy": "2023-01-05T10:09:53.628444Z",
     "iopub.status.idle": "2023-01-05T10:09:53.640209Z",
     "shell.execute_reply": "2023-01-05T10:09:53.639099Z",
     "shell.execute_reply.started": "2023-01-05T10:09:53.629113Z"
    }
   },
   "outputs": [
    {
     "data": {
      "text/plain": [
       "fear         21.591563\n",
       "happiness    17.392138\n",
       "anger        16.308725\n",
       "joy          15.493768\n",
       "sadness      14.697987\n",
       "love         14.515820\n",
       "Name: label, dtype: float64"
      ]
     },
     "execution_count": 5,
     "metadata": {},
     "output_type": "execute_result"
    }
   ],
   "source": [
    "#check if the data is balanced or not\n",
    "df.label.value_counts() / df.shape[0] *100"
   ]
  },
  {
   "cell_type": "code",
   "execution_count": 6,
   "metadata": {
    "execution": {
     "iopub.execute_input": "2023-01-05T10:09:53.642687Z",
     "iopub.status.busy": "2023-01-05T10:09:53.641892Z",
     "iopub.status.idle": "2023-01-05T10:09:53.976859Z",
     "shell.execute_reply": "2023-01-05T10:09:53.975068Z",
     "shell.execute_reply.started": "2023-01-05T10:09:53.642642Z"
    }
   },
   "outputs": [
    {
     "data": {
      "image/png": "[encoded data removed]",
      "text/plain": [
       "<Figure size 800x400 with 1 Axes>"
      ]
     },
     "metadata": {},
     "output_type": "display_data"
    }
   ],
   "source": [
    "plt.figure(figsize=(8,4))\n",
    "sns.countplot(x='label', data=df);"
   ]
  },
  {
   "cell_type": "markdown",
   "metadata": {},
   "source": [
    "The data is balanced"
   ]
  },
  {
   "cell_type": "code",
   "execution_count": 7,
   "metadata": {
    "execution": {
     "iopub.execute_input": "2023-01-05T10:09:53.984527Z",
     "iopub.status.busy": "2023-01-05T10:09:53.980729Z",
     "iopub.status.idle": "2023-01-05T10:09:54.000615Z",
     "shell.execute_reply": "2023-01-05T10:09:53.999494Z",
     "shell.execute_reply.started": "2023-01-05T10:09:53.984473Z"
    }
   },
   "outputs": [
    {
     "name": "stdout",
     "output_type": "stream",
     "text": [
      "(10430, 4)\n"
     ]
    },
    {
     "data": {
      "text/plain": [
       "True"
      ]
     },
     "execution_count": 7,
     "metadata": {},
     "output_type": "execute_result"
    }
   ],
   "source": [
    "#print the number of null values in each column\n",
    "boolean = df.duplicated(subset=['text']).any() # True\n",
    "print(df.shape)\n",
    "boolean "
   ]
  },
  {
   "cell_type": "markdown",
   "metadata": {},
   "source": [
    "The data contains any null values"
   ]
  },
  {
   "cell_type": "code",
   "execution_count": 8,
   "metadata": {
    "execution": {
     "iopub.execute_input": "2023-01-05T10:09:54.00697Z",
     "iopub.status.busy": "2023-01-05T10:09:54.00456Z",
     "iopub.status.idle": "2023-01-05T10:09:54.02812Z",
     "shell.execute_reply": "2023-01-05T10:09:54.027301Z",
     "shell.execute_reply.started": "2023-01-05T10:09:54.006932Z"
    }
   },
   "outputs": [
    {
     "name": "stdout",
     "output_type": "stream",
     "text": [
      "(10236, 4)\n"
     ]
    }
   ],
   "source": [
    "#print the number of duplicated values \n",
    "df.drop_duplicates(subset=['text'], inplace=True)\n",
    "print(df.shape)"
   ]
  },
  {
   "cell_type": "code",
   "execution_count": 9,
   "metadata": {
    "execution": {
     "iopub.execute_input": "2023-01-05T10:09:55.975135Z",
     "iopub.status.busy": "2023-01-05T10:09:55.974863Z",
     "iopub.status.idle": "2023-01-05T10:09:55.981163Z",
     "shell.execute_reply": "2023-01-05T10:09:55.979354Z",
     "shell.execute_reply.started": "2023-01-05T10:09:55.975109Z"
    }
   },
   "outputs": [],
   "source": [
    "def dataframe_difference(df1, df2, which=None):\n",
    "    \"\"\"Find rows which are different between two DataFrames.\"\"\"\n",
    "    \n",
    "    # Combine the two DataFrames using a merge operation, with the\n",
    "    # indicator parameter set to True. This adds a column called _merge\n",
    "    # to the resulting DataFrame, which indicates the source of each row.\n",
    "    comparison_df = df1.merge(\n",
    "        df2,\n",
    "        indicator=True,\n",
    "        how='outer'\n",
    "    )\n",
    "    \n",
    "    # Filter the merged DataFrame based on the value of _merge. If which\n",
    "    # is not specified, return all rows where _merge is not 'both'.\n",
    "    # Otherwise, return all rows where _merge has the specified value\n",
    "    if which is None:\n",
    "        diff_df = comparison_df[comparison_df['_merge'] != 'both']\n",
    "    else:\n",
    "        diff_df = comparison_df[comparison_df['_merge'] == which]\n",
    "        \n",
    "    # Return the filtered DataFrame\n",
    "    return diff_df"
   ]
  },
  {
   "cell_type": "code",
   "execution_count": 10,
   "metadata": {
    "execution": {
     "iopub.execute_input": "2023-01-05T10:09:55.983424Z",
     "iopub.status.busy": "2023-01-05T10:09:55.982729Z",
     "iopub.status.idle": "2023-01-05T10:09:56.01836Z",
     "shell.execute_reply": "2023-01-05T10:09:56.017495Z",
     "shell.execute_reply.started": "2023-01-05T10:09:55.983374Z"
    }
   },
   "outputs": [],
   "source": [
    "#dataframe_difference(df_train, df_test, which='both')"
   ]
  },
  {
   "cell_type": "code",
   "execution_count": 11,
   "metadata": {
    "execution": {
     "iopub.execute_input": "2023-01-05T10:09:56.020174Z",
     "iopub.status.busy": "2023-01-05T10:09:56.019838Z",
     "iopub.status.idle": "2023-01-05T10:09:56.049856Z",
     "shell.execute_reply": "2023-01-05T10:09:56.049039Z",
     "shell.execute_reply.started": "2023-01-05T10:09:56.020137Z"
    }
   },
   "outputs": [],
   "source": [
    "#dataframe_difference(df_train, df_val, which='both')"
   ]
  },
  {
   "cell_type": "code",
   "execution_count": 12,
   "metadata": {
    "execution": {
     "iopub.execute_input": "2023-01-05T10:09:56.051154Z",
     "iopub.status.busy": "2023-01-05T10:09:56.050907Z",
     "iopub.status.idle": "2023-01-05T10:09:56.072201Z",
     "shell.execute_reply": "2023-01-05T10:09:56.071213Z",
     "shell.execute_reply.started": "2023-01-05T10:09:56.051131Z"
    }
   },
   "outputs": [],
   "source": [
    "#dataframe_difference(df_val, df_test, which='both')"
   ]
  },
  {
   "cell_type": "markdown",
   "metadata": {},
   "source": [
    "## Cleaning"
   ]
  },
  {
   "cell_type": "markdown",
   "metadata": {},
   "source": [
    "## Modeling"
   ]
  },
  {
   "cell_type": "markdown",
   "metadata": {},
   "source": [
    "### TF-IDF\n",
    "The word counts suffer some issues: most frequent words are usually not important (like stop words), while they take high focus/count.\n",
    "\n",
    "TFIDF (Term Frequency - Inverse Document) is a way to adjust those counts:\n",
    "\n",
    "TF: #mentions within a document\n",
    "\n",
    "IDF: #mentions across all docs \n",
    "\n",
    "So it gives higher importance to rare words across all docs (IDF++, TFIDF--), while it emphasyses on words appearing mostly in THIS doc (TF++, TFIDF--).\n",
    "\n",
    "If a word appearing only in the current doc/sentence, it has TFIDF=1. If a word appears in all docs/sents but not the current one, it has TFIDF=0. If a word (stop word for example) appearing a lot in the current doc/sent and also in ALL others, it will have high TF (count) and much higher IDF (discount), so low TFIDF overall."
   ]
  },
  {
   "cell_type": "markdown",
   "metadata": {},
   "source": [
    "We will start by baseline models"
   ]
  },
  {
   "cell_type": "markdown",
   "metadata": {},
   "source": [
    "**Creating a pipline using tf-idf for words embedding and different models.**\n"
   ]
  },
  {
   "cell_type": "code",
   "execution_count": 13,
   "metadata": {},
   "outputs": [
    {
     "data": {
      "text/html": [
       "<div>\n",
       "<style scoped>\n",
       "    .dataframe tbody tr th:only-of-type {\n",
       "        vertical-align: middle;\n",
       "    }\n",
       "\n",
       "    .dataframe tbody tr th {\n",
       "        vertical-align: top;\n",
       "    }\n",
       "\n",
       "    .dataframe thead th {\n",
       "        text-align: right;\n",
       "    }\n",
       "</style>\n",
       "<table border=\"1\" class=\"dataframe\">\n",
       "  <thead>\n",
       "    <tr style=\"text-align: right;\">\n",
       "      <th></th>\n",
       "      <th>text</th>\n",
       "      <th>label</th>\n",
       "      <th>clean_list_words</th>\n",
       "      <th>clean_words</th>\n",
       "    </tr>\n",
       "  </thead>\n",
       "  <tbody>\n",
       "    <tr>\n",
       "      <th>0</th>\n",
       "      <td>Just got back from seeing @GaryDelaney in Burs...</td>\n",
       "      <td>joy</td>\n",
       "      <td>[got, back, see, garydelaney, burslem, amaz, f...</td>\n",
       "      <td>got back seeing garydelaney burslem amazing fa...</td>\n",
       "    </tr>\n",
       "    <tr>\n",
       "      <th>1</th>\n",
       "      <td>Oh dear an evening of absolute hilarity I don'...</td>\n",
       "      <td>joy</td>\n",
       "      <td>[oh, dear, even, absolut, hilar, think, laugh,...</td>\n",
       "      <td>oh dear evening absolute hilarity think laughe...</td>\n",
       "    </tr>\n",
       "    <tr>\n",
       "      <th>2</th>\n",
       "      <td>Been waiting all week for this game ❤️❤️❤️ #ch...</td>\n",
       "      <td>joy</td>\n",
       "      <td>[wait, week, game, cheer, friday]</td>\n",
       "      <td>waiting week game ❤️❤️❤️ cheer friday ❤️</td>\n",
       "    </tr>\n",
       "    <tr>\n",
       "      <th>3</th>\n",
       "      <td>@gardiner_love : Thank you so much, Gloria! Yo...</td>\n",
       "      <td>joy</td>\n",
       "      <td>[gardin, love, thank, much, gloria, sweet, tho...</td>\n",
       "      <td>gardiner love thank much gloria sweet thoughtf...</td>\n",
       "    </tr>\n",
       "    <tr>\n",
       "      <th>4</th>\n",
       "      <td>I feel so blessed to work with the family that...</td>\n",
       "      <td>joy</td>\n",
       "      <td>[feel, bless, work, famili, nanni, noth, love,...</td>\n",
       "      <td>feel blessed work family nanny ❤️ nothing love...</td>\n",
       "    </tr>\n",
       "  </tbody>\n",
       "</table>\n",
       "</div>"
      ],
      "text/plain": [
       "                                                text label  \\\n",
       "0  Just got back from seeing @GaryDelaney in Burs...   joy   \n",
       "1  Oh dear an evening of absolute hilarity I don'...   joy   \n",
       "2  Been waiting all week for this game ❤️❤️❤️ #ch...   joy   \n",
       "3  @gardiner_love : Thank you so much, Gloria! Yo...   joy   \n",
       "4  I feel so blessed to work with the family that...   joy   \n",
       "\n",
       "                                    clean_list_words  \\\n",
       "0  [got, back, see, garydelaney, burslem, amaz, f...   \n",
       "1  [oh, dear, even, absolut, hilar, think, laugh,...   \n",
       "2                  [wait, week, game, cheer, friday]   \n",
       "3  [gardin, love, thank, much, gloria, sweet, tho...   \n",
       "4  [feel, bless, work, famili, nanni, noth, love,...   \n",
       "\n",
       "                                         clean_words  \n",
       "0  got back seeing garydelaney burslem amazing fa...  \n",
       "1  oh dear evening absolute hilarity think laughe...  \n",
       "2           waiting week game ❤️❤️❤️ cheer friday ❤️  \n",
       "3  gardiner love thank much gloria sweet thoughtf...  \n",
       "4  feel blessed work family nanny ❤️ nothing love...  "
      ]
     },
     "execution_count": 13,
     "metadata": {},
     "output_type": "execute_result"
    }
   ],
   "source": [
    "df.head()"
   ]
  },
  {
   "cell_type": "code",
   "execution_count": 14,
   "metadata": {},
   "outputs": [],
   "source": [
    "X_train, X_test, y_train, y_test = train_test_split(df['clean_words'].values, df['label'].values, test_size=0.1, random_state=1)\n",
    "X_train, X_val, y_train, y_val = train_test_split(df['clean_words'], df['label'].values, test_size=0.15, random_state=1)"
   ]
  },
  {
   "cell_type": "code",
   "execution_count": 15,
   "metadata": {
    "execution": {
     "iopub.execute_input": "2023-01-05T10:11:08.690396Z",
     "iopub.status.busy": "2023-01-05T10:11:08.690059Z",
     "iopub.status.idle": "2023-01-05T10:11:08.698144Z",
     "shell.execute_reply": "2023-01-05T10:11:08.696823Z",
     "shell.execute_reply.started": "2023-01-05T10:11:08.690363Z"
    }
   },
   "outputs": [],
   "source": [
    "def get_F1(trained_model,X,y):\n",
    "    \"\"\"\n",
    "    Get the F1 score for the given model on the given data and targets.\n",
    "    \n",
    "    Parameters:\n",
    "    trained_model (sklearn model): The trained model.\n",
    "    X (list of str): The input data.\n",
    "    y (list of str): The targets.\n",
    "    \n",
    "    Returns:\n",
    "    array: The F1 score for each class.\n",
    "    \"\"\"\n",
    "    # Make predictions on the input data using the trained model\n",
    "    predicted=trained_model.predict(X)\n",
    "    # Calculate the F1 score for the predictions\n",
    "    f1=f1_score(y,predicted, average=None)\n",
    "    # Return the F1 score\n",
    "    return f1"
   ]
  },
  {
   "cell_type": "code",
   "execution_count": 16,
   "metadata": {
    "execution": {
     "iopub.execute_input": "2023-01-05T10:12:38.978322Z",
     "iopub.status.busy": "2023-01-05T10:12:38.976451Z",
     "iopub.status.idle": "2023-01-05T10:12:39.007468Z",
     "shell.execute_reply": "2023-01-05T10:12:39.006531Z",
     "shell.execute_reply.started": "2023-01-05T10:12:38.978286Z"
    }
   },
   "outputs": [],
   "source": [
    "# Encode labels\n",
    "le = LabelEncoder()\n",
    "y_train = le.fit_transform(y_train)\n",
    "y_test = le.transform(y_test)\n",
    "y_val = le.transform(y_val)"
   ]
  },
  {
   "cell_type": "code",
   "execution_count": 17,
   "metadata": {
    "execution": {
     "iopub.execute_input": "2023-01-05T10:12:39.009968Z",
     "iopub.status.busy": "2023-01-05T10:12:39.008789Z",
     "iopub.status.idle": "2023-01-05T10:12:39.021194Z",
     "shell.execute_reply": "2023-01-05T10:12:39.020358Z",
     "shell.execute_reply.started": "2023-01-05T10:12:39.009932Z"
    }
   },
   "outputs": [
    {
     "name": "stdout",
     "output_type": "stream",
     "text": [
      "{0, 1, 2, 3, 4, 5}\n"
     ]
    }
   ],
   "source": [
    "#print the labels after encoding \n",
    "print(set(y_train))"
   ]
  },
  {
   "cell_type": "code",
   "execution_count": 18,
   "metadata": {
    "execution": {
     "iopub.execute_input": "2023-01-05T10:12:39.024764Z",
     "iopub.status.busy": "2023-01-05T10:12:39.022968Z",
     "iopub.status.idle": "2023-01-05T10:12:39.034271Z",
     "shell.execute_reply": "2023-01-05T10:12:39.033206Z",
     "shell.execute_reply.started": "2023-01-05T10:12:39.024729Z"
    }
   },
   "outputs": [],
   "source": [
    "#Convert the class vector (integers) to binary class matrix\n",
    "y_train = to_categorical(y_train)\n",
    "y_test = to_categorical(y_test)\n",
    "y_val = to_categorical(y_val)"
   ]
  },
  {
   "cell_type": "code",
   "execution_count": 19,
   "metadata": {
    "execution": {
     "iopub.execute_input": "2023-01-05T10:12:39.037903Z",
     "iopub.status.busy": "2023-01-05T10:12:39.036011Z",
     "iopub.status.idle": "2023-01-05T10:12:39.048257Z",
     "shell.execute_reply": "2023-01-05T10:12:39.047076Z",
     "shell.execute_reply.started": "2023-01-05T10:12:39.037869Z"
    }
   },
   "outputs": [
    {
     "name": "stdout",
     "output_type": "stream",
     "text": [
      "[[0. 0. 0. 1. 0. 0.]\n",
      " [0. 1. 0. 0. 0. 0.]\n",
      " [0. 0. 0. 0. 1. 0.]\n",
      " ...\n",
      " [0. 1. 0. 0. 0. 0.]\n",
      " [0. 1. 0. 0. 0. 0.]\n",
      " [0. 0. 0. 1. 0. 0.]]\n"
     ]
    }
   ],
   "source": [
    "print(y_train)"
   ]
  },
  {
   "cell_type": "markdown",
   "metadata": {},
   "source": [
    "## Tokenizing"
   ]
  },
  {
   "cell_type": "code",
   "execution_count": 20,
   "metadata": {
    "execution": {
     "iopub.execute_input": "2023-01-05T10:12:39.053114Z",
     "iopub.status.busy": "2023-01-05T10:12:39.050251Z",
     "iopub.status.idle": "2023-01-05T10:12:39.491565Z",
     "shell.execute_reply": "2023-01-05T10:12:39.490609Z",
     "shell.execute_reply.started": "2023-01-05T10:12:39.05308Z"
    }
   },
   "outputs": [],
   "source": [
    "# Tokenize words\n",
    "tokenizer = Tokenizer(oov_token='UNK')\n",
    "tokenizer.fit_on_texts(df[\"clean_words\"])"
   ]
  },
  {
   "cell_type": "code",
   "execution_count": 21,
   "metadata": {
    "execution": {
     "iopub.execute_input": "2023-01-05T10:12:39.510409Z",
     "iopub.status.busy": "2023-01-05T10:12:39.509888Z",
     "iopub.status.idle": "2023-01-05T10:12:39.520532Z",
     "shell.execute_reply": "2023-01-05T10:12:39.519467Z",
     "shell.execute_reply.started": "2023-01-05T10:12:39.510374Z"
    },
    "scrolled": true
   },
   "outputs": [
    {
     "data": {
      "text/plain": [
       "10236"
      ]
     },
     "execution_count": 21,
     "metadata": {},
     "output_type": "execute_result"
    }
   ],
   "source": [
    "#document count: A dictionary of words and how many documents each appeared in.\n",
    "#in this dataset the output will be the number of rows\n",
    "tokenizer.document_count"
   ]
  },
  {
   "cell_type": "code",
   "execution_count": 22,
   "metadata": {
    "execution": {
     "iopub.execute_input": "2023-01-05T10:12:39.522653Z",
     "iopub.status.busy": "2023-01-05T10:12:39.522146Z",
     "iopub.status.idle": "2023-01-05T10:12:39.529548Z",
     "shell.execute_reply": "2023-01-05T10:12:39.528539Z",
     "shell.execute_reply.started": "2023-01-05T10:12:39.522617Z"
    }
   },
   "outputs": [
    {
     "data": {
      "text/plain": [
       "defaultdict(int,\n",
       "            {'face': 62,\n",
       "             'amazing': 151,\n",
       "             'got': 285,\n",
       "             'seeing': 43,\n",
       "             'hilarious': 92,\n",
       "             'still': 222,\n",
       "             'hurt': 35,\n",
       "             'garydelaney': 2,\n",
       "             'laughing': 29,\n",
       "             'burslem': 2,\n",
       "             'much': 242,\n",
       "             'back': 230,\n",
       "             'laughed': 8,\n",
       "             'absolute': 10,\n",
       "             'hilarity': 36,\n",
       "             'dear': 25,\n",
       "             'long': 98,\n",
       "             '😂': 56,\n",
       "             'evening': 35,\n",
       "             'time': 386,\n",
       "             'think': 250,\n",
       "             'oh': 162,\n",
       "             'game': 100,\n",
       "             'week': 141,\n",
       "             'friday': 41,\n",
       "             'waiting': 27,\n",
       "             'cheer': 55,\n",
       "             '❤️': 11,\n",
       "             '❤️❤️❤️': 1,\n",
       "             'thoughtful': 4,\n",
       "             'love': 632,\n",
       "             'made': 115,\n",
       "             'gloria': 1,\n",
       "             'thank': 137,\n",
       "             'joyful': 37,\n",
       "             '😊💕': 1,\n",
       "             'gardiner': 1,\n",
       "             'sweet': 75,\n",
       "             'day': 772,\n",
       "             'too': 75,\n",
       "             'smile': 121,\n",
       "             'feel': 201,\n",
       "             'family': 71,\n",
       "             'work': 205,\n",
       "             'blessed': 22,\n",
       "             'appreciation': 1,\n",
       "             'make': 294,\n",
       "             'amp': 401,\n",
       "             'nothing': 84,\n",
       "             'nanny': 1,\n",
       "             'subscriber': 2,\n",
       "             'yt': 3,\n",
       "             'goodday': 6,\n",
       "             'today': 313,\n",
       "             'thankful': 5,\n",
       "             'reached': 4,\n",
       "             'fall': 24,\n",
       "             'laughter': 66,\n",
       "             'singaholic': 2,\n",
       "             'morning': 171,\n",
       "             'happy': 558,\n",
       "             'good': 504,\n",
       "             'first': 128,\n",
       "             'let': 146,\n",
       "             's': 995,\n",
       "             'awesome': 98,\n",
       "             'autumnmemories': 2,\n",
       "             'annabailey': 2,\n",
       "             'seen': 49,\n",
       "             've': 178,\n",
       "             'bridgetjonesbaby': 4,\n",
       "             'bridget': 5,\n",
       "             'best': 169,\n",
       "             'missed': 33,\n",
       "             'i': 1070,\n",
       "             'teammark': 2,\n",
       "             'funny': 70,\n",
       "             'age': 31,\n",
       "             'thing': 190,\n",
       "             'get': 479,\n",
       "             'thenicebot': 6,\n",
       "             'met': 25,\n",
       "             'holiday': 34,\n",
       "             'you': 257,\n",
       "             'could': 141,\n",
       "             'thought': 78,\n",
       "             'indymn': 2,\n",
       "             'cheerful': 36,\n",
       "             'm': 718,\n",
       "             'blast': 7,\n",
       "             'na': 15,\n",
       "             'be': 36,\n",
       "             'meant': 10,\n",
       "             'bb': 41,\n",
       "             'glorious': 6,\n",
       "             '💥⚖️yeah‼️': 2,\n",
       "             'paul‼️⚖️💥': 2,\n",
       "             'going': 255,\n",
       "             'whole': 56,\n",
       "             'hopefully': 19,\n",
       "             'go': 315,\n",
       "             'started': 41,\n",
       "             'n': 334,\n",
       "             'want': 244,\n",
       "             'greatday': 2,\n",
       "             'mrbabyboogaloo': 2,\n",
       "             'lost': 115,\n",
       "             'ishabc': 2,\n",
       "             'black': 68,\n",
       "             '😱': 6,\n",
       "             'watching': 103,\n",
       "             'glass': 13,\n",
       "             'cailamarsai': 2,\n",
       "             'iamtinadatta': 1,\n",
       "             '😊😊': 3,\n",
       "             'livingvertical': 1,\n",
       "             'however': 12,\n",
       "             'job': 64,\n",
       "             'can': 256,\n",
       "             'believe': 52,\n",
       "             'rei': 1,\n",
       "             'freaking': 11,\n",
       "             'well': 166,\n",
       "             'wyowiseguy': 1,\n",
       "             't': 327,\n",
       "             'exponentially': 1,\n",
       "             'joyous': 29,\n",
       "             'offer': 13,\n",
       "             'gopackgo': 2,\n",
       "             'gogipego': 2,\n",
       "             'excited': 75,\n",
       "             'smiling': 55,\n",
       "             'watch': 158,\n",
       "             '珞': 1,\n",
       "             'again': 84,\n",
       "             'wonderful': 50,\n",
       "             'themandymoore': 3,\n",
       "             'thisisus': 4,\n",
       "             'phenomenal': 3,\n",
       "             'prowess': 2,\n",
       "             'act': 25,\n",
       "             'damn': 41,\n",
       "             'beyond': 20,\n",
       "             'singing': 24,\n",
       "             'elated': 32,\n",
       "             'scary': 17,\n",
       "             'making': 57,\n",
       "             'many': 63,\n",
       "             'bc': 37,\n",
       "             'luckii': 1,\n",
       "             'him': 51,\n",
       "             'strong': 25,\n",
       "             'luckiicharm': 1,\n",
       "             'changing': 14,\n",
       "             'feeling': 79,\n",
       "             'way': 173,\n",
       "             'joshnoneyabiz': 2,\n",
       "             'account': 15,\n",
       "             'lol': 283,\n",
       "             'trump': 71,\n",
       "             'done': 68,\n",
       "             'vote': 31,\n",
       "             'parody': 2,\n",
       "             'dream': 58,\n",
       "             'laugh': 50,\n",
       "             'something': 116,\n",
       "             'wake': 34,\n",
       "             'stupid': 19,\n",
       "             'future': 45,\n",
       "             'happier': 8,\n",
       "             'goal': 30,\n",
       "             'planned': 9,\n",
       "             'life': 205,\n",
       "             'igotthis': 2,\n",
       "             'out': 57,\n",
       "             'yay': 72,\n",
       "             'horny': 5,\n",
       "             'online': 26,\n",
       "             'sour': 3,\n",
       "             'playful': 32,\n",
       "             'come': 147,\n",
       "             'play': 92,\n",
       "             'yesterday': 51,\n",
       "             'at': 11,\n",
       "             'thankyou': 10,\n",
       "             'bbcletitshine': 2,\n",
       "             'grahnort': 2,\n",
       "             'experience': 37,\n",
       "             'birthday': 80,\n",
       "             'toronto': 3,\n",
       "             'itsyourgirl': 2,\n",
       "             'bday': 15,\n",
       "             'z': 9,\n",
       "             'wsjnordics': 3,\n",
       "             'world': 103,\n",
       "             'place': 54,\n",
       "             'sunny': 18,\n",
       "             'all': 88,\n",
       "             'cheerfully': 27,\n",
       "             'u': 391,\n",
       "             'monday': 36,\n",
       "             'course': 19,\n",
       "             'welcome': 42,\n",
       "             'everyone': 102,\n",
       "             'flavored': 2,\n",
       "             'firstdayoffall': 4,\n",
       "             'amwriting': 12,\n",
       "             'pumpkinspice': 1,\n",
       "             'coffee': 44,\n",
       "             'sipping': 1,\n",
       "             'ndays': 2,\n",
       "             'like': 568,\n",
       "             'gunnysmith': 2,\n",
       "             'stephensmith': 2,\n",
       "             'alive': 10,\n",
       "             'retweeted': 3,\n",
       "             'rejoice': 39,\n",
       "             'hope': 164,\n",
       "             'joy': 37,\n",
       "             'despite': 12,\n",
       "             'lt': 98,\n",
       "             'filled': 7,\n",
       "             'adenkyirah': 1,\n",
       "             'tumblr': 7,\n",
       "             'jerk': 5,\n",
       "             'lot': 86,\n",
       "             'fun': 146,\n",
       "             'relaxationiskey': 2,\n",
       "             'n😊💖': 1,\n",
       "             'nlet': 3,\n",
       "             'glad': 57,\n",
       "             'aja': 1,\n",
       "             'ngood': 1,\n",
       "             'rehoi': 1,\n",
       "             'am': 57,\n",
       "             'share': 12,\n",
       "             'constantly': 8,\n",
       "             'second': 33,\n",
       "             'eye': 37,\n",
       "             'twitching': 2,\n",
       "             'tip': 20,\n",
       "             'dude': 34,\n",
       "             'whose': 4,\n",
       "             'cheering': 35,\n",
       "             'dollar': 10,\n",
       "             'lololol': 2,\n",
       "             'already': 58,\n",
       "             'weekend': 70,\n",
       "             'together': 35,\n",
       "             'fan': 67,\n",
       "             'friend': 124,\n",
       "             'happiness': 30,\n",
       "             'enjoying': 27,\n",
       "             'endless': 6,\n",
       "             'fridayfeeling': 1,\n",
       "             'never': 169,\n",
       "             '💚': 1,\n",
       "             'fails': 7,\n",
       "             'season': 46,\n",
       "             'need': 199,\n",
       "             'relief': 5,\n",
       "             'modernfamily': 2,\n",
       "             'getting': 104,\n",
       "             'sofiavergara': 2,\n",
       "             'w': 70,\n",
       "             'premiere': 6,\n",
       "             'comedic': 2,\n",
       "             'girl': 114,\n",
       "             'worthingtheatre': 1,\n",
       "             'funsville': 1,\n",
       "             'palmtreesarah': 1,\n",
       "             'usual': 8,\n",
       "             'person': 67,\n",
       "             'funniest': 3,\n",
       "             'shwood': 1,\n",
       "             'up': 98,\n",
       "             'levity': 26,\n",
       "             'balance': 3,\n",
       "             'follow': 58,\n",
       "             'michael😀': 1,\n",
       "             'omd': 1,\n",
       "             'mpforstein': 1,\n",
       "             'cynicism': 2,\n",
       "             'thanks': 217,\n",
       "             'brian': 6,\n",
       "             'cracking': 2,\n",
       "             'dorh': 1,\n",
       "             'bet': 18,\n",
       "             'exhilarating': 31,\n",
       "             'super': 41,\n",
       "             '🤗😍': 1,\n",
       "             'fantastic': 14,\n",
       "             'delight': 38,\n",
       "             'lady': 39,\n",
       "             'team': 61,\n",
       "             'award': 5,\n",
       "             'contourcosmetic': 1,\n",
       "             'present': 23,\n",
       "             'great': 241,\n",
       "             'gbbo': 49,\n",
       "             'vals': 1,\n",
       "             'always': 160,\n",
       "             'open': 27,\n",
       "             'every': 103,\n",
       "             'tumbling': 2,\n",
       "             'skywalkers': 2,\n",
       "             'wednesday': 14,\n",
       "             'hillsboro': 2,\n",
       "             'tonight': 141,\n",
       "             'train': 22,\n",
       "             'gym': 24,\n",
       "             'opengym': 2,\n",
       "             'adoring': 2,\n",
       "             'new': 245,\n",
       "             'produce': 2,\n",
       "             'jackhoward': 2,\n",
       "             'cheery': 29,\n",
       "             'content': 10,\n",
       "             'grandmercurejktkemayoran': 2,\n",
       "             'choose': 12,\n",
       "             'people': 277,\n",
       "             'magical': 5,\n",
       "             'eatcake': 2,\n",
       "             'dancer': 5,\n",
       "             'wishing': 18,\n",
       "             'ruthann': 2,\n",
       "             'balloon': 4,\n",
       "             'twitter': 110,\n",
       "             'tv': 37,\n",
       "             'tear': 37,\n",
       "             'series': 17,\n",
       "             'omg': 43,\n",
       "             'this': 54,\n",
       "             'moretears': 2,\n",
       "             'wow': 74,\n",
       "             'show': 107,\n",
       "             'early': 43,\n",
       "             'professor': 4,\n",
       "             'min': 26,\n",
       "             'live': 131,\n",
       "             'math': 9,\n",
       "             'class': 48,\n",
       "             'feelsgood': 1,\n",
       "             '😍🙌🏻': 2,\n",
       "             'delivered': 11,\n",
       "             'food': 37,\n",
       "             'someone': 143,\n",
       "             'whenever': 7,\n",
       "             'talk': 68,\n",
       "             'know': 332,\n",
       "             'shower': 17,\n",
       "             '😇': 2,\n",
       "             'lovely': 56,\n",
       "             'lively': 61,\n",
       "             'photo': 31,\n",
       "             'training': 9,\n",
       "             'soon': 64,\n",
       "             'boostercourse': 2,\n",
       "             'emmymitchell': 1,\n",
       "             'hahahaha': 7,\n",
       "             'ridiculous': 7,\n",
       "             'xx': 24,\n",
       "             'across': 15,\n",
       "             'notebook': 3,\n",
       "             'hilltopbindery': 1,\n",
       "             'handmade': 1,\n",
       "             'would': 217,\n",
       "             'musthave': 1,\n",
       "             '📖🖋': 1,\n",
       "             'night': 211,\n",
       "             'reid': 2,\n",
       "             'point': 50,\n",
       "             'brilliant': 15,\n",
       "             'murray': 2,\n",
       "             'andy': 6,\n",
       "             'gordonreid': 1,\n",
       "             'included': 3,\n",
       "             'wearing': 18,\n",
       "             'gave': 38,\n",
       "             'me': 207,\n",
       "             'happyme': 2,\n",
       "             'flying': 8,\n",
       "             'indeed': 10,\n",
       "             'airvistara': 2,\n",
       "             'guy': 147,\n",
       "             'bestinbusiness': 2,\n",
       "             'ah': 14,\n",
       "             'rejoicing': 32,\n",
       "             'now': 131,\n",
       "             'alpuzz': 1,\n",
       "             'taht': 1,\n",
       "             'mrhenvin': 1,\n",
       "             'they': 80,\n",
       "             'helpful': 9,\n",
       "             'lifeproof': 1,\n",
       "             'nice': 135,\n",
       "             'customer': 38,\n",
       "             're': 124,\n",
       "             'really': 269,\n",
       "             'service': 54,\n",
       "             'stuff': 43,\n",
       "             '😂😂': 18,\n",
       "             'head': 62,\n",
       "             'gleeful': 18,\n",
       "             'theperezhilton': 1,\n",
       "             'boy': 68,\n",
       "             'kardashian': 3,\n",
       "             'php': 1,\n",
       "             'chrisbooker': 1,\n",
       "             'little': 115,\n",
       "             'though': 91,\n",
       "             'sport': 11,\n",
       "             'see': 302,\n",
       "             'beauty': 7,\n",
       "             'challenging': 1,\n",
       "             'thesandragal': 1,\n",
       "             'sun': 22,\n",
       "             'water': 36,\n",
       "             'peace': 24,\n",
       "             'morning☕': 1,\n",
       "             'mubarak😇': 1,\n",
       "             'success': 41,\n",
       "             'may': 88,\n",
       "             'waseembadami': 1,\n",
       "             'jummah': 1,\n",
       "             'have': 17,\n",
       "             'full': 41,\n",
       "             'kda': 1,\n",
       "             'abla': 1,\n",
       "             'far': 42,\n",
       "             'confident': 8,\n",
       "             'came': 34,\n",
       "             '😂😂😂': 8,\n",
       "             'self': 27,\n",
       "             'fga': 1,\n",
       "             'kaml': 1,\n",
       "             'jeep': 3,\n",
       "             'jeepgirl': 2,\n",
       "             'brooke': 5,\n",
       "             'jeepjeep': 2,\n",
       "             'cheerchick': 2,\n",
       "             'idriveajeep': 2,\n",
       "             'melbjs': 1,\n",
       "             'web': 6,\n",
       "             'wink': 5,\n",
       "             'around': 71,\n",
       "             'brightens': 1,\n",
       "             'remember': 60,\n",
       "             'free': 50,\n",
       "             'cuz': 23,\n",
       "             'kekepalmer': 1,\n",
       "             'movie': 92,\n",
       "             'noise': 11,\n",
       "             'hug': 28,\n",
       "             'indian': 18,\n",
       "             'ur': 83,\n",
       "             'stupendous': 1,\n",
       "             'akshaymarwah': 1,\n",
       "             'wish': 105,\n",
       "             'x': 58,\n",
       "             'ever': 133,\n",
       "             'bro': 16,\n",
       "             'luv': 15,\n",
       "             'jadelalaa': 1,\n",
       "             'da': 12,\n",
       "             'heart': 79,\n",
       "             'hahaha': 36,\n",
       "             'hearty': 32,\n",
       "             'morgannbroom': 1,\n",
       "             '❤️❤️': 1,\n",
       "             'yes': 86,\n",
       "             'homecoming': 2,\n",
       "             'arabia': 1,\n",
       "             'national': 8,\n",
       "             'اليوم': 1,\n",
       "             'الوطني': 1,\n",
       "             'congratulate': 1,\n",
       "             'saudi': 2,\n",
       "             'listen💗😀': 1,\n",
       "             'jackandjack': 1,\n",
       "             'll': 172,\n",
       "             'offerman': 4,\n",
       "             'wait': 114,\n",
       "             'there': 129,\n",
       "             'nick': 17,\n",
       "             '🤗': 5,\n",
       "             'pleasing': 33,\n",
       "             'krelifa': 1,\n",
       "             'zamansj': 1,\n",
       "             'ahtareen': 1,\n",
       "             'reginalaleman': 1,\n",
       "             'awiexab': 1,\n",
       "             'ty': 8,\n",
       "             'zerfash': 1,\n",
       "             '—': 15,\n",
       "             'said': 93,\n",
       "             'grinned': 1,\n",
       "             'madisenrb': 1,\n",
       "             '😍': 7,\n",
       "             'productivity': 1,\n",
       "             'optimism': 74,\n",
       "             '⛅️❤️🇳🇴🏢💻🖥🏋🏻💪🏼📺🍿': 1,\n",
       "             'trondheim': 1,\n",
       "             'themed': 4,\n",
       "             'disney': 8,\n",
       "             'letting': 11,\n",
       "             'episode': 44,\n",
       "             'blackishwriters': 2,\n",
       "             'are': 22,\n",
       "             'discover': 8,\n",
       "             'ask': 26,\n",
       "             'do': 54,\n",
       "             'store': 22,\n",
       "             'worker': 3,\n",
       "             'them': 50,\n",
       "             'pet': 5,\n",
       "             'yoshi': 3,\n",
       "             'start': 135,\n",
       "             'worry': 66,\n",
       "             'enjoy': 54,\n",
       "             'lucky': 16,\n",
       "             'ndon': 2,\n",
       "             'ztoronto': 2,\n",
       "             'listening': 45,\n",
       "             'podcasts': 2,\n",
       "             'scottfoxonair': 2,\n",
       "             'yvr': 2,\n",
       "             'currently': 11,\n",
       "             'missyou': 2,\n",
       "             'katcallaghan': 2,\n",
       "             'please': 70,\n",
       "             'move': 23,\n",
       "             'thin': 4,\n",
       "             'lee': 4,\n",
       "             'edotwoods': 1,\n",
       "             'freezer': 1,\n",
       "             'jen': 4,\n",
       "             'mostlymartha': 1,\n",
       "             'mint': 5,\n",
       "             'found': 36,\n",
       "             'clean': 14,\n",
       "             'myahrissavietta': 1,\n",
       "             '😘😉': 1,\n",
       "             'absolutely': 38,\n",
       "             'period': 3,\n",
       "             'teamna': 7,\n",
       "             'ot': 3,\n",
       "             'wch': 11,\n",
       "             'probably': 30,\n",
       "             'herewego': 1,\n",
       "             'totally': 29,\n",
       "             'hub': 5,\n",
       "             'forgot': 33,\n",
       "             'with': 11,\n",
       "             'raising': 3,\n",
       "             'rewatching': 3,\n",
       "             'tweet': 69,\n",
       "             'one': 360,\n",
       "             'deal': 18,\n",
       "             'looking': 79,\n",
       "             'followadama': 2,\n",
       "             'right': 155,\n",
       "             'speechless': 6,\n",
       "             'perfect': 29,\n",
       "             'recent': 9,\n",
       "             'australia': 8,\n",
       "             'marmite': 2,\n",
       "             'expensive': 8,\n",
       "             'spot': 13,\n",
       "             'parade': 3,\n",
       "             'tiny': 9,\n",
       "             'mcmenemy': 1,\n",
       "             'd': 125,\n",
       "             'jammies': 1,\n",
       "             'it': 305,\n",
       "             'weans': 1,\n",
       "             'easy': 21,\n",
       "             'real': 47,\n",
       "             'glow': 4,\n",
       "             'woman': 58,\n",
       "             'grass': 5,\n",
       "             '🙈': 9,\n",
       "             'outside': 34,\n",
       "             'jumping': 1,\n",
       "             'aw': 17,\n",
       "             'fox': 6,\n",
       "             'soo': 12,\n",
       "             '🐺': 1,\n",
       "             'cute': 53,\n",
       "             'stretch': 5,\n",
       "             'young': 27,\n",
       "             'mitt': 1,\n",
       "             'sweden': 8,\n",
       "             'silky': 1,\n",
       "             'america': 21,\n",
       "             'watched': 40,\n",
       "             'hockey': 6,\n",
       "             '😅': 10,\n",
       "             'mackinonns': 1,\n",
       "             'north': 15,\n",
       "             'v': 48,\n",
       "             'impressive': 7,\n",
       "             'is': 47,\n",
       "             'efficient': 1,\n",
       "             'redefine': 1,\n",
       "             'genius': 8,\n",
       "             'ready': 52,\n",
       "             'applebelgique': 1,\n",
       "             'change': 48,\n",
       "             'hardworkpaysoff': 2,\n",
       "             'quote': 65,\n",
       "             'actorslife': 3,\n",
       "             'use': 57,\n",
       "             'heard': 29,\n",
       "             'katienolan': 1,\n",
       "             'beautiful': 72,\n",
       "             'garbagetime': 1,\n",
       "             'graceful': 1,\n",
       "             'explicits': 1,\n",
       "             'spoken': 4,\n",
       "             'truelove': 2,\n",
       "             'mingo': 1,\n",
       "             'elegance': 1,\n",
       "             'helpless': 1,\n",
       "             'often': 12,\n",
       "             'help': 70,\n",
       "             'others': 32,\n",
       "             'vulnerable': 3,\n",
       "             'leadership': 17,\n",
       "             'care': 39,\n",
       "             'xmas': 3,\n",
       "             'dept': 3,\n",
       "             'answer': 22,\n",
       "             'call': 63,\n",
       "             'story': 44,\n",
       "             'winning': 13,\n",
       "             '❤': 1,\n",
       "             'hello': 21,\n",
       "             'mr': 23,\n",
       "             '📞👍😊': 1,\n",
       "             'goodcustomerservice': 1,\n",
       "             'true': 52,\n",
       "             'matalan': 1,\n",
       "             'yep': 15,\n",
       "             'year': 133,\n",
       "             'keep': 90,\n",
       "             'ahead': 8,\n",
       "             'mam': 2,\n",
       "             'iridhidogra': 1,\n",
       "             'sleep': 77,\n",
       "             'jovial': 21,\n",
       "             'productive': 5,\n",
       "             'nflonfox': 3,\n",
       "             'jimmy': 8,\n",
       "             'almost': 44,\n",
       "             'garoppolo': 2,\n",
       "             'robriggle': 2,\n",
       "             'joelmchale': 2,\n",
       "             'breakfast': 25,\n",
       "             'messaged': 2,\n",
       "             'socialmedia': 7,\n",
       "             'hungry': 14,\n",
       "             'ugh': 22,\n",
       "             'winewednesday': 2,\n",
       "             'suffocate': 1,\n",
       "             'news': 47,\n",
       "             'charlie': 6,\n",
       "             'cushion': 1,\n",
       "             'stackee': 1,\n",
       "             'attempted': 2,\n",
       "             'glee': 50,\n",
       "             'clonmacart': 1,\n",
       "             'beaming': 1,\n",
       "             'surprisepeople': 1,\n",
       "             'influenceinternational': 1,\n",
       "             'surprised': 11,\n",
       "             'happens': 18,\n",
       "             'cool': 57,\n",
       "             'breezy': 33,\n",
       "             '😍🍂🌾🍁': 1,\n",
       "             'artybagger': 1,\n",
       "             'cake': 15,\n",
       "             'wee': 5,\n",
       "             'without': 51,\n",
       "             'queendom': 1,\n",
       "             'deeply': 4,\n",
       "             'truly': 19,\n",
       "             'simple': 14,\n",
       "             'madly': 1,\n",
       "             'aliciakeys': 1,\n",
       "             'human': 33,\n",
       "             'existence': 2,\n",
       "             'miami': 4,\n",
       "             'bright': 36,\n",
       "             'color': 17,\n",
       "             'downtown': 5,\n",
       "             'respectful': 2,\n",
       "             'seewitheyesofmercy': 1,\n",
       "             'assumptionhcdsb': 1,\n",
       "             'acsscrusader': 1,\n",
       "             'meaningful': 2,\n",
       "             'fr': 9,\n",
       "             'mass': 6,\n",
       "             'vallely': 1,\n",
       "             'liamjamesvernon': 1,\n",
       "             'blue': 88,\n",
       "             'moon': 13,\n",
       "             'o': 47,\n",
       "             'contentwiththelordsportion': 2,\n",
       "             'that': 257,\n",
       "             'p': 61,\n",
       "             'thy': 8,\n",
       "             'gladness': 5,\n",
       "             'mercy': 6,\n",
       "             'satisfy': 2,\n",
       "             'realestcastiel': 1,\n",
       "             'extended': 1,\n",
       "             'sitting': 18,\n",
       "             'close': 30,\n",
       "             'he': 114,\n",
       "             'الخفجي': 2,\n",
       "             'paper': 15,\n",
       "             'priiiincessse': 1,\n",
       "             'video': 47,\n",
       "             'distracting': 6,\n",
       "             'simplymeasured': 1,\n",
       "             'giggle': 8,\n",
       "             'lindseysanford': 1,\n",
       "             'inspiration': 11,\n",
       "             'grateful': 23,\n",
       "             'simply': 10,\n",
       "             'give': 117,\n",
       "             'unknown': 5,\n",
       "             'big': 94,\n",
       "             'roadsofar': 1,\n",
       "             'lifetrip': 1,\n",
       "             'forest': 8,\n",
       "             'god': 114,\n",
       "             'timelesstips': 1,\n",
       "             'friendship': 4,\n",
       "             'identity': 2,\n",
       "             'romance': 3,\n",
       "             'zephaniah': 1,\n",
       "             'surely': 7,\n",
       "             'such': 2,\n",
       "             'needed': 16,\n",
       "             '👌🏻': 1,\n",
       "             'imdevinlopez': 1,\n",
       "             'opened': 11,\n",
       "             'bowel': 1,\n",
       "             'mad': 36,\n",
       "             'profession': 2,\n",
       "             'client': 10,\n",
       "             'mate': 23,\n",
       "             'riggs': 2,\n",
       "             'dumb': 11,\n",
       "             'hell': 50,\n",
       "             'lethalweapon': 5,\n",
       "             'as': 42,\n",
       "             'lolol': 2,\n",
       "             'expectant': 2,\n",
       "             'positive': 22,\n",
       "             '”': 19,\n",
       "             '“be': 1,\n",
       "             'nightingaleearl': 1,\n",
       "             'jessicaweare': 1,\n",
       "             'sid': 1,\n",
       "             'innovative': 1,\n",
       "             'lisavol': 1,\n",
       "             'inspire': 8,\n",
       "             'espinosa': 1,\n",
       "             'knightfdn': 1,\n",
       "             'student': 14,\n",
       "             'microsoftsv': 1,\n",
       "             'dyuliharris': 1,\n",
       "             'ironmaiden': 1,\n",
       "             'frends': 1,\n",
       "             'norn': 1,\n",
       "             'pun': 11,\n",
       "             'punny': 8,\n",
       "             'man': 130,\n",
       "             'ball': 30,\n",
       "             'juggle': 8,\n",
       "             'a': 51,\n",
       "             'education': 6,\n",
       "             'learning': 14,\n",
       "             'hall': 5,\n",
       "             'ukedchat': 2,\n",
       "             'or': 21,\n",
       "             'sparkling': 36,\n",
       "             'takeru': 1,\n",
       "             'cutest': 3,\n",
       "             'eating': 33,\n",
       "             'complete': 11,\n",
       "             'sense': 17,\n",
       "             'hear': 49,\n",
       "             'jamienicks': 1,\n",
       "             'liamch': 2,\n",
       "             'playing': 59,\n",
       "             'yeah': 100,\n",
       "             'olajide': 1,\n",
       "             'lmaoo': 2,\n",
       "             'shutti': 1,\n",
       "             'ride': 24,\n",
       "             'rachelplatten': 1,\n",
       "             'since': 66,\n",
       "             'teaching': 6,\n",
       "             'mountaindairy': 2,\n",
       "             'farm': 3,\n",
       "             'closer': 3,\n",
       "             'harvest': 3,\n",
       "             'working': 62,\n",
       "             'chopper': 3,\n",
       "             'home': 167,\n",
       "             'sound': 58,\n",
       "             'michaelk': 1,\n",
       "             'spl': 1,\n",
       "             'nga🙋': 1,\n",
       "             'iam': 4,\n",
       "             'silau': 1,\n",
       "             'amerson': 1,\n",
       "             'dressenn': 1,\n",
       "             'rosatrunk': 1,\n",
       "             'ish': 4,\n",
       "             'overtime': 5,\n",
       "             'sweaty': 2,\n",
       "             'yo': 18,\n",
       "             'last': 158,\n",
       "             'minute': 51,\n",
       "             'pto': 1,\n",
       "             'doneeeee': 1,\n",
       "             'tomorrow': 128,\n",
       "             'but': 37,\n",
       "             'taking': 41,\n",
       "             'ooh': 6,\n",
       "             'tea': 15,\n",
       "             'hygge': 2,\n",
       "             'jasmine': 3,\n",
       "             'candle': 6,\n",
       "             'salt': 3,\n",
       "             'travelanswerman': 3,\n",
       "             'pile': 4,\n",
       "             'aloha': 2,\n",
       "             'salty': 4,\n",
       "             'extra': 15,\n",
       "             'savory': 1,\n",
       "             '…': 9,\n",
       "             'surfing': 3,\n",
       "             'cloudy': 5,\n",
       "             'everywhere': 16,\n",
       "             'guitar': 11,\n",
       "             'shop': 10,\n",
       "             'owner': 6,\n",
       "             'jimadair': 1,\n",
       "             'webiversary': 1,\n",
       "             'bethpylieberman': 1,\n",
       "             'smithsonian': 1,\n",
       "             'bilbo': 2,\n",
       "             'mazeltov': 1,\n",
       "             'weipoints': 1,\n",
       "             'jackie': 1,\n",
       "             'mansky': 1,\n",
       "             'mitzvah': 1,\n",
       "             'brianwolly': 1,\n",
       "             'greyhound': 2,\n",
       "             'either': 40,\n",
       "             'e': 26,\n",
       "             'herothegreyhound': 2,\n",
       "             'book': 49,\n",
       "             'send': 28,\n",
       "             'lennyabrahamson': 2,\n",
       "             'copy': 8,\n",
       "             'delightful': 4,\n",
       "             'forward': 41,\n",
       "             'lifequote': 2,\n",
       "             'surprise': 9,\n",
       "             'look': 185,\n",
       "             'bring': 31,\n",
       "             'detour': 2,\n",
       "             'premier': 2,\n",
       "             'hooked': 3,\n",
       "             'nbcchicagopd': 1,\n",
       "             'onechicago': 1,\n",
       "             'cable': 5,\n",
       "             'nbcchicagomed': 1,\n",
       "             'mediacrooks': 1,\n",
       "             'lodhimaleeha': 1,\n",
       "             'slip': 3,\n",
       "             'freudian': 1,\n",
       "             'eh': 8,\n",
       "             'thenewshour': 1,\n",
       "             'ndtv': 1,\n",
       "             'indiatoday': 1,\n",
       "             'musically': 55,\n",
       "             'broadcast': 56,\n",
       "             'ly': 78,\n",
       "             'izzybuzy': 2,\n",
       "             'gangster': 2,\n",
       "             'sibling': 2,\n",
       "             '😅😂': 1,\n",
       "             'haha': 130,\n",
       "             'united': 18,\n",
       "             'arsenal': 2,\n",
       "             'uff': 1,\n",
       "             'sidviyer': 1,\n",
       "             'prince': 2,\n",
       "             'glanced': 1,\n",
       "             'elyse': 1,\n",
       "             'hythehighborne': 1,\n",
       "             'receive': 2,\n",
       "             'sylvia': 2,\n",
       "             'garrett': 2,\n",
       "             'clear': 15,\n",
       "             'kiss': 17,\n",
       "             'able': 23,\n",
       "             'satisfying': 2,\n",
       "             'doc': 4,\n",
       "             'opening': 7,\n",
       "             'file': 8,\n",
       "             'old': 99,\n",
       "             'to': 27,\n",
       "             'check': 28,\n",
       "             'ability': 10,\n",
       "             '☺️': 8,\n",
       "             'createlove': 1,\n",
       "             'audio': 2,\n",
       "             'fine': 18,\n",
       "             'compilation': 2,\n",
       "             'near': 16,\n",
       "             'moment': 48,\n",
       "             'bluejayhunter': 1,\n",
       "             'put': 59,\n",
       "             'bed': 81,\n",
       "             'collect': 7,\n",
       "             'reservation': 3,\n",
       "             'library': 4,\n",
       "             'hit': 33,\n",
       "             'reading': 31,\n",
       "             'ain': 19,\n",
       "             'hulu': 1,\n",
       "             'shit': 77,\n",
       "             'sugarboy': 1,\n",
       "             'cried': 10,\n",
       "             'tampabayray': 1,\n",
       "             'due': 20,\n",
       "             'positivity': 6,\n",
       "             'deserve': 12,\n",
       "             'prayed': 2,\n",
       "             'tinadaheley': 1,\n",
       "             'tom': 9,\n",
       "             'odell': 3,\n",
       "             'raaar': 1,\n",
       "             'fionaradio': 1,\n",
       "             'rbreakfast': 1,\n",
       "             'grimmers': 1,\n",
       "             'listen': 30,\n",
       "             'tote': 2,\n",
       "             'oregon': 4,\n",
       "             'parched': 1,\n",
       "             'summer': 20,\n",
       "             'finally': 61,\n",
       "             'raining': 3,\n",
       "             'we': 92,\n",
       "             'ashland': 1,\n",
       "             'plant': 4,\n",
       "             'tfw': 3,\n",
       "             'openhouse': 2,\n",
       "             'ya': 49,\n",
       "             'hucjir': 2,\n",
       "             'route': 7,\n",
       "             'futurecantor': 2,\n",
       "             'en': 4,\n",
       "             'coming': 39,\n",
       "             'nycletsgo': 2,\n",
       "             'yourebeautiful': 3,\n",
       "             'reinervshunter': 3,\n",
       "             'staystrong': 3,\n",
       "             'this\\uf499': 1,\n",
       "             'grey': 5,\n",
       "             'tgit': 2,\n",
       "             'mean': 70,\n",
       "             'thursday': 10,\n",
       "             'bridge': 9,\n",
       "             'creative': 5,\n",
       "             'superman': 1,\n",
       "             'continues': 5,\n",
       "             'everone': 1,\n",
       "             'current': 11,\n",
       "             'run': 37,\n",
       "             'poured': 4,\n",
       "             'refreshing': 2,\n",
       "             'riding': 3,\n",
       "             'lmboo': 2,\n",
       "             'nephew': 7,\n",
       "             'meme': 4,\n",
       "             'using': 22,\n",
       "             'chirp': 25,\n",
       "             'internet': 22,\n",
       "             'blew': 5,\n",
       "             'pkessel': 1,\n",
       "             ...})"
      ]
     },
     "execution_count": 22,
     "metadata": {},
     "output_type": "execute_result"
    }
   ],
   "source": [
    "#word docs: An integer count of the total number of documents(or rows) that were used to fit the Tokenizer.\n",
    "tokenizer.word_docs"
   ]
  },
  {
   "cell_type": "code",
   "execution_count": 23,
   "metadata": {
    "execution": {
     "iopub.execute_input": "2023-01-05T10:12:39.531379Z",
     "iopub.status.busy": "2023-01-05T10:12:39.531039Z",
     "iopub.status.idle": "2023-01-05T10:12:39.541452Z",
     "shell.execute_reply": "2023-01-05T10:12:39.540524Z",
     "shell.execute_reply.started": "2023-01-05T10:12:39.531345Z"
    }
   },
   "outputs": [
    {
     "data": {
      "text/plain": [
       "464"
      ]
     },
     "execution_count": 23,
     "metadata": {},
     "output_type": "execute_result"
    }
   ],
   "source": [
    "#print the index of a single word\n",
    "tokenizer.word_index['evening']"
   ]
  },
  {
   "cell_type": "code",
   "execution_count": 24,
   "metadata": {
    "execution": {
     "iopub.execute_input": "2023-01-05T10:12:39.549184Z",
     "iopub.status.busy": "2023-01-05T10:12:39.548924Z",
     "iopub.status.idle": "2023-01-05T10:12:39.555619Z",
     "shell.execute_reply": "2023-01-05T10:12:39.554677Z",
     "shell.execute_reply.started": "2023-01-05T10:12:39.549161Z"
    }
   },
   "outputs": [
    {
     "data": {
      "text/plain": [
       "[[24],\n",
       " [37],\n",
       " [373],\n",
       " [4660],\n",
       " [4661],\n",
       " [72],\n",
       " [236],\n",
       " [39],\n",
       " [485],\n",
       " [579],\n",
       " [35],\n",
       " [139]]"
      ]
     },
     "execution_count": 24,
     "metadata": {},
     "output_type": "execute_result"
    }
   ],
   "source": [
    "#converting a single sentence to list of indexes\n",
    "tokenizer.texts_to_sequences(X_train[0].split())"
   ]
  },
  {
   "cell_type": "code",
   "execution_count": 25,
   "metadata": {
    "execution": {
     "iopub.execute_input": "2023-01-05T10:12:39.558358Z",
     "iopub.status.busy": "2023-01-05T10:12:39.557129Z",
     "iopub.status.idle": "2023-01-05T10:12:39.56661Z",
     "shell.execute_reply": "2023-01-05T10:12:39.565514Z",
     "shell.execute_reply.started": "2023-01-05T10:12:39.55832Z"
    }
   },
   "outputs": [
    {
     "data": {
      "text/plain": [
       "array([[0., 0., 0., ..., 0., 0., 0.],\n",
       "       [0., 0., 0., ..., 0., 0., 0.],\n",
       "       [0., 0., 0., ..., 0., 0., 0.],\n",
       "       ...,\n",
       "       [0., 0., 0., ..., 0., 0., 0.],\n",
       "       [0., 0., 0., ..., 0., 0., 0.],\n",
       "       [0., 0., 0., ..., 0., 0., 0.]])"
      ]
     },
     "execution_count": 25,
     "metadata": {},
     "output_type": "execute_result"
    }
   ],
   "source": [
    "#convert the list of indexes into a matrix of ones and zeros (BOW)\n",
    "tokenizer.texts_to_matrix(X_train[0].split())"
   ]
  },
  {
   "cell_type": "code",
   "execution_count": 26,
   "metadata": {
    "execution": {
     "iopub.execute_input": "2023-01-05T10:12:39.568972Z",
     "iopub.status.busy": "2023-01-05T10:12:39.568172Z",
     "iopub.status.idle": "2023-01-05T10:12:39.579073Z",
     "shell.execute_reply": "2023-01-05T10:12:39.578011Z",
     "shell.execute_reply.started": "2023-01-05T10:12:39.568937Z"
    }
   },
   "outputs": [
    {
     "data": {
      "text/plain": [
       "(12, 19674)"
      ]
     },
     "execution_count": 26,
     "metadata": {},
     "output_type": "execute_result"
    }
   ],
   "source": [
    "#the sentence contains three words and the size of the vocabulary is 14325\n",
    "tokenizer.texts_to_matrix(X_train[0].split()).shape"
   ]
  },
  {
   "cell_type": "code",
   "execution_count": 27,
   "metadata": {
    "execution": {
     "iopub.execute_input": "2023-01-05T10:12:39.581585Z",
     "iopub.status.busy": "2023-01-05T10:12:39.580444Z",
     "iopub.status.idle": "2023-01-05T10:12:39.829555Z",
     "shell.execute_reply": "2023-01-05T10:12:39.828535Z",
     "shell.execute_reply.started": "2023-01-05T10:12:39.581543Z"
    }
   },
   "outputs": [],
   "source": [
    "sequences_train = tokenizer.texts_to_sequences(X_train)\n",
    "sequences_test = tokenizer.texts_to_sequences(X_test)\n",
    "sequences_val = tokenizer.texts_to_sequences(X_val)"
   ]
  },
  {
   "cell_type": "markdown",
   "metadata": {},
   "source": [
    "## Padding\n",
    "\n",
    "The vectors we obtain are generally not of equal lengths\n",
    "\n",
    "For that, we might need to pad the sequences to max len. "
   ]
  },
  {
   "cell_type": "code",
   "execution_count": 28,
   "metadata": {
    "execution": {
     "iopub.execute_input": "2023-01-05T10:12:39.868604Z",
     "iopub.status.busy": "2023-01-05T10:12:39.86752Z",
     "iopub.status.idle": "2023-01-05T10:12:39.930522Z",
     "shell.execute_reply": "2023-01-05T10:12:39.929549Z",
     "shell.execute_reply.started": "2023-01-05T10:12:39.868559Z"
    }
   },
   "outputs": [
    {
     "name": "stdout",
     "output_type": "stream",
     "text": [
      "Vocabulary size = 19674\n"
     ]
    }
   ],
   "source": [
    "X_train = pad_sequences(sequences_train, maxlen=229, truncating='pre')\n",
    "X_test = pad_sequences(sequences_test, maxlen=229, truncating='pre')\n",
    "X_val = pad_sequences(sequences_val, maxlen=229, truncating='pre')\n",
    "\n",
    "vocabSize = len(tokenizer.index_word) + 1\n",
    "print(f\"Vocabulary size = {vocabSize}\")"
   ]
  },
  {
   "cell_type": "code",
   "execution_count": 29,
   "metadata": {
    "execution": {
     "iopub.execute_input": "2023-01-05T10:12:39.932313Z",
     "iopub.status.busy": "2023-01-05T10:12:39.931958Z",
     "iopub.status.idle": "2023-01-05T10:12:39.93955Z",
     "shell.execute_reply": "2023-01-05T10:12:39.937664Z",
     "shell.execute_reply.started": "2023-01-05T10:12:39.932278Z"
    }
   },
   "outputs": [
    {
     "data": {
      "text/plain": [
       "[2439, 732, 3576, 646, 299, 32, 140, 323, 545, 170]"
      ]
     },
     "execution_count": 29,
     "metadata": {},
     "output_type": "execute_result"
    }
   ],
   "source": [
    "#before\n",
    "sequences_train[0]"
   ]
  },
  {
   "cell_type": "markdown",
   "metadata": {},
   "source": [
    "## Word Embedding"
   ]
  },
  {
   "cell_type": "markdown",
   "metadata": {},
   "source": [
    "**This code defines the following variables:**\n",
    "\n",
    "**path_to_glove_file**: The file path to the GloVe word vectors file.\n",
    "\n",
    "**num_tokens**: The size of the vocabulary. This is typically the number of unique words in the dataset.\n",
    "\n",
    "**embedding_dim**: The dimensionality of the word vectors. This is usually set to a fixed value (e.g., 200, 300, etc.) depending on the size of the word vectors file that is being used.\n",
    "\n",
    "**hits**: A counter for the number of words that are found in the embeddings_index dictionary.\n",
    "\n",
    "**misses**: A counter for the number of words that are not found in the embeddings_index dictionary.\n",
    "\n",
    "**embeddings_index**: A dictionary that will store the word vectors, with the words as keys and the word vectors as values."
   ]
  },
  {
   "cell_type": "code",
   "execution_count": 1,
   "metadata": {
    "execution": {
     "iopub.execute_input": "2023-01-05T11:06:15.442524Z",
     "iopub.status.busy": "2023-01-05T11:06:15.441637Z",
     "iopub.status.idle": "2023-01-05T11:06:15.699996Z",
     "shell.execute_reply": "2023-01-05T11:06:15.698758Z",
     "shell.execute_reply.started": "2023-01-05T11:06:15.442464Z"
    }
   },
   "outputs": [
    {
     "ename": "NameError",
     "evalue": "name 'vocabSize' is not defined",
     "output_type": "error",
     "traceback": [
      "\u001b[0;31m---------------------------------------------------------------------------\u001b[0m",
      "\u001b[0;31mNameError\u001b[0m                                 Traceback (most recent call last)",
      "\u001b[0;32m/var/folders/py/zw500mfn25v784l08b7_gnd80000gn/T/ipykernel_5149/3341016558.py\u001b[0m in \u001b[0;36m<module>\u001b[0;34m\u001b[0m\n\u001b[1;32m      2\u001b[0m \u001b[0;34m\u001b[0m\u001b[0m\n\u001b[1;32m      3\u001b[0m \u001b[0mpath_to_glove_file\u001b[0m \u001b[0;34m=\u001b[0m \u001b[0;34m'./token/token_word_dictionary/glove.6B.200d.txt'\u001b[0m\u001b[0;34m\u001b[0m\u001b[0;34m\u001b[0m\u001b[0m\n\u001b[0;32m----> 4\u001b[0;31m \u001b[0mnum_tokens\u001b[0m \u001b[0;34m=\u001b[0m \u001b[0mvocabSize\u001b[0m\u001b[0;34m\u001b[0m\u001b[0;34m\u001b[0m\u001b[0m\n\u001b[0m\u001b[1;32m      5\u001b[0m \u001b[0membedding_dim\u001b[0m \u001b[0;34m=\u001b[0m \u001b[0;36m200\u001b[0m \u001b[0;31m#latent factors or features\u001b[0m\u001b[0;34m\u001b[0m\u001b[0;34m\u001b[0m\u001b[0m\n\u001b[1;32m      6\u001b[0m \u001b[0mhits\u001b[0m \u001b[0;34m=\u001b[0m \u001b[0;36m0\u001b[0m\u001b[0;34m\u001b[0m\u001b[0;34m\u001b[0m\u001b[0m\n",
      "\u001b[0;31mNameError\u001b[0m: name 'vocabSize' is not defined"
     ]
    }
   ],
   "source": [
    "# Read GloVE embeddings\n",
    "\n",
    "path_to_glove_file = './token/token_word_dictionary/glove.6B.200d.txt'\n",
    "num_tokens = vocabSize\n",
    "embedding_dim = 200 #latent factors or features  \n",
    "hits = 0\n",
    "misses = 0\n",
    "embeddings_index = {}"
   ]
  },
  {
   "cell_type": "markdown",
   "metadata": {},
   "source": [
    "num_tokens: The size of the vocabulary. This is typically the number of unique words in the dataset.\n",
    "Set up vocabulary: defined by tokenizer2\n",
    "\n",
    "1. Embedding matrix with all zero values and then looping through the vocabulary  (num_tokens * embedding_dim)\n",
    "2. assign word vectors to the corresponding rows of the embedding matrix.\n",
    "3. Calculate hit and miss\n",
    "-> hit: if the input word is found in the dictionary, hits increase\n",
    "-> miss: the input word not found, loss increase"
   ]
  },
  {
   "cell_type": "code",
   "execution_count": 31,
   "metadata": {
    "execution": {
     "iopub.execute_input": "2023-01-05T10:12:39.952676Z",
     "iopub.status.busy": "2023-01-05T10:12:39.951525Z",
     "iopub.status.idle": "2023-01-05T10:12:39.95807Z",
     "shell.execute_reply": "2023-01-05T10:12:39.95695Z",
     "shell.execute_reply.started": "2023-01-05T10:12:39.952639Z"
    }
   },
   "outputs": [
    {
     "name": "stdout",
     "output_type": "stream",
     "text": [
      "Found 400000 word vectors.\n",
      "Converted 11821 words (7852 misses)\n"
     ]
    }
   ],
   "source": [
    "with open(path_to_glove_file,encoding=\"utf8\") as f:\n",
    "    for line in f:\n",
    "        word, coefs = line.split(maxsplit=1)\n",
    "        coefs = np.fromstring(coefs, \"f\", sep=\" \")\n",
    "        embeddings_index[word] = coefs\n",
    "print(\"Found %s word vectors.\" % len(embeddings_index))\n",
    "\n",
    "# Assign word vectors to our dictionary/vocabulary\n",
    "embedding_matrix = np.zeros((num_tokens, embedding_dim))\n",
    "for word, i in tokenizer.word_index.items():\n",
    "    embedding_vector = embeddings_index.get(word)\n",
    "    if embedding_vector is not None:\n",
    "        # Words not found in embedding index will be all-zeros.\n",
    "        # This includes the representation for \"padding\" and \"OOV\"\n",
    "        embedding_matrix[i] = embedding_vector\n",
    "        hits += 1\n",
    "    else:\n",
    "        misses += 1\n",
    "print(\"Converted %d words (%d misses)\" % (hits, misses))\n"
   ]
  },
  {
   "cell_type": "markdown",
   "metadata": {},
   "source": [
    "## Modeling"
   ]
  },
  {
   "cell_type": "markdown",
   "metadata": {},
   "source": [
    "**The model consists of several layers:**\n",
    "\n",
    "1. An Embedding layer that takes in integer-encoded text and looks up the embedding vector for each word in the input. The input length is set to the length of the input sequences, and the weights are initialized with an embedding matrix that has been pre-trained on a large dataset. The embedding layer is not trainable, meaning that the weights of this layer will not be updated during training.\n",
    "\n",
    "2. Three Bidirectional layers, each of which applies a forward and backward LSTM to the input. LSTMs are a type of recurrent neural network that are able to capture long-term dependencies in sequential data. The dropout and recurrent dropout arguments specify the dropout rate to apply to the inputs and recurrent inputs of the LSTMs, respectively. The return_sequences argument specifies whether the LSTM should return the full sequences of outputs or just the last output of each sequence.\n",
    "\n",
    "3. A Dense layer that applies a linear transformation to the input to produce the output. The output has 6 units and uses the 'softmax' activation function, which means that it will output a probability distribution over the 6 classes."
   ]
  },
  {
   "cell_type": "code",
   "execution_count": 32,
   "metadata": {
    "execution": {
     "iopub.execute_input": "2023-01-05T10:12:58.61956Z",
     "iopub.status.busy": "2023-01-05T10:12:58.619119Z",
     "iopub.status.idle": "2023-01-05T10:13:02.233541Z",
     "shell.execute_reply": "2023-01-05T10:13:02.232616Z",
     "shell.execute_reply.started": "2023-01-05T10:12:58.619524Z"
    }
   },
   "outputs": [
    {
     "name": "stdout",
     "output_type": "stream",
     "text": [
      "Model: \"sequential\"\n",
      "_________________________________________________________________\n",
      " Layer (type)                Output Shape              Param #   \n",
      "=================================================================\n",
      " embedding (Embedding)       (None, 229, 200)          3934800   \n",
      "                                                                 \n",
      " bidirectional (Bidirectiona  (None, 229, 512)         935936    \n",
      " l)                                                              \n",
      "                                                                 \n",
      " bidirectional_1 (Bidirectio  (None, 229, 256)         656384    \n",
      " nal)                                                            \n",
      "                                                                 \n",
      " bidirectional_2 (Bidirectio  (None, 256)              394240    \n",
      " nal)                                                            \n",
      "                                                                 \n",
      " dense (Dense)               (None, 6)                 1542      \n",
      "                                                                 \n",
      "=================================================================\n",
      "Total params: 5,922,902\n",
      "Trainable params: 1,988,102\n",
      "Non-trainable params: 3,934,800\n",
      "_________________________________________________________________\n"
     ]
    }
   ],
   "source": [
    "# Build neural network architecture\n",
    "\n",
    "adam = Adam(learning_rate=0.005)\n",
    "\n",
    "model = Sequential()\n",
    "model.add(Embedding(vocabSize, 200, input_length=X_train.shape[1], weights=[embedding_matrix], trainable=False))\n",
    "model.add(Bidirectional(LSTM(256, dropout=0.2,recurrent_dropout=0.2, return_sequences=True)))\n",
    "model.add(Bidirectional(LSTM(128, dropout=0.2,recurrent_dropout=0.2, return_sequences=True)))\n",
    "model.add(Bidirectional(LSTM(128, dropout=0.2,recurrent_dropout=0.2)))\n",
    "model.add(Dense(6, activation='softmax'))\n",
    "\n",
    "model.compile(loss='categorical_crossentropy', optimizer=adam, metrics=['accuracy'])\n",
    "model.summary()"
   ]
  },
  {
   "cell_type": "code",
   "execution_count": 33,
   "metadata": {
    "execution": {
     "iopub.execute_input": "2023-01-05T10:13:03.224786Z",
     "iopub.status.busy": "2023-01-05T10:13:03.223135Z",
     "iopub.status.idle": "2023-01-05T10:13:03.23041Z",
     "shell.execute_reply": "2023-01-05T10:13:03.229216Z",
     "shell.execute_reply.started": "2023-01-05T10:13:03.22474Z"
    }
   },
   "outputs": [],
   "source": [
    "#to stop the training when the loss starts to increase\n",
    "callback = EarlyStopping(\n",
    "    monitor=\"val_loss\",\n",
    "    patience=10,\n",
    "    restore_best_weights=True,\n",
    ")"
   ]
  },
  {
   "cell_type": "code",
   "execution_count": null,
   "metadata": {
    "execution": {
     "iopub.execute_input": "2023-01-05T10:13:03.232886Z",
     "iopub.status.busy": "2023-01-05T10:13:03.232094Z",
     "iopub.status.idle": "2023-01-05T11:05:08.531553Z",
     "shell.execute_reply": "2023-01-05T11:05:08.530537Z",
     "shell.execute_reply.started": "2023-01-05T10:13:03.232848Z"
    }
   },
   "outputs": [
    {
     "name": "stdout",
     "output_type": "stream",
     "text": [
      "Epoch 1/40\n",
      "34/34 [==============================] - 65243s 1973s/step - loss: 1.9238 - accuracy: 0.2099 - val_loss: 1.6774 - val_accuracy: 0.2741\n",
      "Epoch 2/40\n",
      "34/34 [==============================] - 20624s 614s/step - loss: 1.6185 - accuracy: 0.2951 - val_loss: 1.5628 - val_accuracy: 0.3105\n",
      "Epoch 3/40\n",
      "34/34 [==============================] - 26677s 785s/step - loss: 1.4435 - accuracy: 0.3716 - val_loss: 1.4051 - val_accuracy: 0.4030\n",
      "Epoch 4/40\n",
      "34/34 [==============================] - 29998s 883s/step - loss: 1.3501 - accuracy: 0.4203 - val_loss: 1.2280 - val_accuracy: 0.4876\n",
      "Epoch 5/40\n",
      "21/34 [=================>............] - ETA: 4:19:15 - loss: 1.1547 - accuracy: 0.5307"
     ]
    }
   ],
   "source": [
    "# Fit model\n",
    "history = model.fit(X_train,\n",
    "                    y_train,\n",
    "                    validation_data=(X_val, y_val),\n",
    "                    verbose=1,\n",
    "                    batch_size=256,\n",
    "                    epochs=40,\n",
    "                    callbacks=[callback]\n",
    "                   )"
   ]
  },
  {
   "cell_type": "code",
   "execution_count": null,
   "metadata": {
    "execution": {
     "iopub.execute_input": "2023-01-05T11:05:08.533498Z",
     "iopub.status.busy": "2023-01-05T11:05:08.533118Z",
     "iopub.status.idle": "2023-01-05T11:05:29.048489Z",
     "shell.execute_reply": "2023-01-05T11:05:29.047364Z",
     "shell.execute_reply.started": "2023-01-05T11:05:08.533445Z"
    }
   },
   "outputs": [],
   "source": [
    "#print the overall loss and accuracy\n",
    "model.evaluate(X_val, y_val, verbose=1) "
   ]
  },
  {
   "cell_type": "code",
   "execution_count": null,
   "metadata": {
    "execution": {
     "iopub.execute_input": "2023-01-05T11:05:29.050607Z",
     "iopub.status.busy": "2023-01-05T11:05:29.050153Z",
     "iopub.status.idle": "2023-01-05T11:05:49.564339Z",
     "shell.execute_reply": "2023-01-05T11:05:49.563387Z",
     "shell.execute_reply.started": "2023-01-05T11:05:29.050556Z"
    }
   },
   "outputs": [],
   "source": [
    "#print the overall loss and accuracy\n",
    "model.evaluate(X_test, y_test, verbose=1) "
   ]
  },
  {
   "cell_type": "code",
   "execution_count": null,
   "metadata": {
    "execution": {
     "iopub.execute_input": "2023-01-05T11:05:49.566966Z",
     "iopub.status.busy": "2023-01-05T11:05:49.566592Z",
     "iopub.status.idle": "2023-01-05T11:06:09.436293Z",
     "shell.execute_reply": "2023-01-05T11:06:09.435232Z",
     "shell.execute_reply.started": "2023-01-05T11:05:49.566929Z"
    }
   },
   "outputs": [],
   "source": [
    "predicted = model.predict(X_test)\n",
    "y_pred = predicted.argmax(axis=-1)\n",
    "\n",
    "print(classification_report(le.transform(df_test['Emotion']), y_pred))"
   ]
  },
  {
   "cell_type": "code",
   "execution_count": null,
   "metadata": {
    "execution": {
     "iopub.execute_input": "2023-01-05T11:06:14.86563Z",
     "iopub.status.busy": "2023-01-05T11:06:14.865323Z",
     "iopub.status.idle": "2023-01-05T11:06:15.437286Z",
     "shell.execute_reply": "2023-01-05T11:06:15.436413Z",
     "shell.execute_reply.started": "2023-01-05T11:06:14.865602Z"
    }
   },
   "outputs": [],
   "source": [
    "# Visualize Loss & Accuracy\n",
    "\n",
    "%matplotlib inline\n",
    "import matplotlib.pyplot as plt\n",
    "acc = history.history['accuracy']\n",
    "val_acc = history.history['val_accuracy']\n",
    "loss = history.history['loss']\n",
    "val_loss = history.history['val_loss']\n",
    "\n",
    "epochs = range(len(acc))\n",
    "\n",
    "plt.plot(epochs, acc, 'r', label='Training accuracy')\n",
    "plt.plot(epochs, val_acc, 'b', label='Validation accuracy')\n",
    "plt.title('Training and validation accuracy')\n",
    "plt.legend()\n",
    "plt.figure()\n",
    "\n",
    "plt.plot(epochs, loss, 'r', label='Training Loss')\n",
    "plt.plot(epochs, val_loss, 'b', label='Validation Loss')\n",
    "plt.title('Training and validation loss')\n",
    "plt.legend()\n",
    "\n",
    "plt.show()"
   ]
  },
  {
   "cell_type": "markdown",
   "metadata": {},
   "source": [
    "**So, you may asking when I give a sentence to the model how the classification will done?**\n",
    "\n",
    "1. First, the model will convert the words in the sentence into numerical representations, also known as word embeddings. These word embeddings capture the meaning of the words and their relationships to each other in a continuous vector space.\n",
    "\n",
    "2. The word embeddings for each word in the sentence are then input to two separate LSTM models: one that processes the sequence forwards and one that processes it backwards. At each time step, each LSTM processes the current word embedding and the previous hidden state to produce a new hidden state. The hidden state at each time step is a combination of the previous hidden state and the current input, and it captures the information from all the previous time steps in the sequence.\n",
    "\n",
    "3. After processing all the words in the sentence, the two LSTMs will have final hidden states that encode the meaning of the sentence from both the forwards and backwards directions. These final hidden states are then combined and used to make a prediction."
   ]
  },
  {
   "cell_type": "code",
   "execution_count": null,
   "metadata": {
    "execution": {
     "iopub.execute_input": "2023-01-05T11:06:09.438776Z",
     "iopub.status.busy": "2023-01-05T11:06:09.43792Z",
     "iopub.status.idle": "2023-01-05T11:06:12.543735Z",
     "shell.execute_reply": "2023-01-05T11:06:12.542518Z",
     "shell.execute_reply.started": "2023-01-05T11:06:09.438728Z"
    }
   },
   "outputs": [],
   "source": [
    "# Classify custom sample\n",
    "\n",
    "sentences = [\n",
    "            \"He's over the moon about being accepted to the university\",\n",
    "            \"Your point on this certain matter made me outrageous, how can you say so? This is insane.\",\n",
    "            \"I can't do it, I'm not ready to lose anything, just leave me alone\",\n",
    "            \"Merlin's beard harry, you can cast the Patronus charm! I'm amazed!\"\n",
    "            ]\n",
    "for sentence in sentences:\n",
    "    print(sentence)\n",
    "    sentence = normalized_sentence(sentence)\n",
    "    sentence = tokenizer.texts_to_sequences([sentence])\n",
    "    sentence = pad_sequences(sentence, maxlen=229, truncating='pre')\n",
    "    result = le.inverse_transform(np.argmax(model.predict(sentence), axis=-1))[0]\n",
    "    proba =  np.max(model.predict(sentence))\n",
    "    print(f\"{result} : {proba}\\n\\n\")"
   ]
  },
  {
   "cell_type": "code",
   "execution_count": null,
   "metadata": {
    "execution": {
     "iopub.execute_input": "2023-01-05T11:11:12.864269Z",
     "iopub.status.busy": "2023-01-05T11:11:12.863279Z",
     "iopub.status.idle": "2023-01-05T11:11:13.581559Z",
     "shell.execute_reply": "2023-01-05T11:11:13.58047Z",
     "shell.execute_reply.started": "2023-01-05T11:11:12.864217Z"
    }
   },
   "outputs": [],
   "source": [
    "sentence= 'my old brother is dead'\n",
    "print(sentence)\n",
    "sentence = normalized_sentence(sentence)\n",
    "sentence = tokenizer.texts_to_sequences([sentence])\n",
    "sentence = pad_sequences(sentence, maxlen=229, truncating='pre')\n",
    "result = le.inverse_transform(np.argmax(model.predict(sentence), axis=-1))[0]\n",
    "proba =  np.max(model.predict(sentence))\n",
    "print(f\"{result} : {proba}\\n\\n\")"
   ]
  },
  {
   "cell_type": "code",
   "execution_count": null,
   "metadata": {
    "execution": {
     "iopub.execute_input": "2023-01-05T11:11:27.466077Z",
     "iopub.status.busy": "2023-01-05T11:11:27.465652Z",
     "iopub.status.idle": "2023-01-05T11:11:28.171402Z",
     "shell.execute_reply": "2023-01-05T11:11:28.170175Z",
     "shell.execute_reply.started": "2023-01-05T11:11:27.466043Z"
    }
   },
   "outputs": [],
   "source": [
    "sentence= 'Im feeling sad today'\n",
    "print(sentence)\n",
    "sentence = normalized_sentence(sentence)\n",
    "sentence = tokenizer.texts_to_sequences([sentence])\n",
    "sentence = pad_sequences(sentence, maxlen=229, truncating='pre')\n",
    "result = le.inverse_transform(np.argmax(model.predict(sentence), axis=-1))[0]\n",
    "proba =  np.max(model.predict(sentence))\n",
    "print(f\"{result} : {proba}\\n\\n\")"
   ]
  },
  {
   "cell_type": "code",
   "execution_count": null,
   "metadata": {
    "execution": {
     "iopub.execute_input": "2023-01-05T11:06:14.756967Z",
     "iopub.status.busy": "2023-01-05T11:06:14.756595Z",
     "iopub.status.idle": "2023-01-05T11:06:14.859618Z",
     "shell.execute_reply": "2023-01-05T11:06:14.858529Z",
     "shell.execute_reply.started": "2023-01-05T11:06:14.756929Z"
    }
   },
   "outputs": [],
   "source": [
    "model.save('Emotion Recognition From English text.h5')"
   ]
  }
 ],
 "metadata": {
  "kernelspec": {
   "display_name": "Python 3 (ipykernel)",
   "language": "python",
   "name": "python3"
  },
  "language_info": {
   "codemirror_mode": {
    "name": "ipython",
    "version": 3
   },
   "file_extension": ".py",
   "mimetype": "text/x-python",
   "name": "python",
   "nbconvert_exporter": "python",
   "pygments_lexer": "ipython3",
   "version": "3.11.4"
  }
 },
 "nbformat": 4,
 "nbformat_minor": 4
}
